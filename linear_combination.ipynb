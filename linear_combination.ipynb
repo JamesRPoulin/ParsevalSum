{
 "cells": [
  {
   "cell_type": "code",
   "execution_count": 1,
   "metadata": {},
   "outputs": [],
   "source": [
    "load('parseval/sum_of_nonnegative_rational_function.sage')\n",
    "load('parseval/compute_zeta_values.sage')\n",
    "\n",
    "def lin_comb(rational_expression):\n",
    "    numer = rational_expression.numerator()\n",
    "    denom = rational_expression.denominator()\n",
    "    product = numer*denom\n",
    "    coeff_list = []\n",
    "    for i in range(0,product.degree()+1):\n",
    "        if product[i] != 0:\n",
    "            coeff_list.append([product[i], i])\n",
    "    nonneg_list = []\n",
    "    for i in coeff_list:\n",
    "        if i[1]%2 == 1:\n",
    "            nonneg_list.append((i[0]*(n^(i[1]+1)+n^(i[1])+n^(i[1]-1)))/((denom)^2))\n",
    "            nonneg_list.append((-i[0]*(n^(i[1]+1)))/((denom)^2))\n",
    "            nonneg_list.append((-i[0]*(n^(i[1]-1)))/((denom)^2))\n",
    "        else:\n",
    "            nonneg_list.append((i[0]*(n^(i[1])))/((denom)^2))\n",
    "    return nonneg_list\n",
    "\n",
    "def rational_func(rational_expression):\n",
    "    list_of_nonneg = lin_comb(rational_expression)\n",
    "    funcs = []\n",
    "    for i in list_of_nonneg:\n",
    "        funcs.append(required_function(i, True, False))\n",
    "    return funcs\n",
    "\n",
    "def rational_SUM(rational_expression, sub_approx = False):\n",
    "    list_of_nonneg = lin_comb(rational_expression)\n",
    "    answer = 0\n",
    "    for i in list_of_nonneg:\n",
    "        answer += SUM(i, sub_approx)\n",
    "    print(answer.n(200))\n",
    "    return (answer).canonicalize_radical()"
   ]
  },
  {
   "cell_type": "code",
   "execution_count": 7,
   "metadata": {},
   "outputs": [
    {
     "name": "stdout",
     "output_type": "stream",
     "text": [
      "576.88466231554257237758012900040504404792815179701570872779\n"
     ]
    },
    {
     "data": {
      "text/plain": [
       "2/4913*(578*pi^2*(167*e^(8*pi) + 142*e^(4*pi) + 167) - 72063*pi*(e^(8*pi) - 1) - 2*(34*pi^2*sqrt(-1560*sqrt(3) + 3379)*e^(4*pi) - 17*pi^2*((sqrt(3) - 8)*e^(8*pi) - 2*(sqrt(3) - 8)*e^(4*pi) + sqrt(3) - 8) - 2*pi*((52*sqrt(3) + 77)*e^(8*pi) - 52*sqrt(3) - 77))*sqrt(1560*sqrt(3) + 3379) - 4*(17*pi^2*sqrt(-752*sqrt(3) + 2401)*e^(4*pi) + 34*pi^2*((sqrt(3) - 8)*e^(8*pi) - 2*(sqrt(3) - 8)*e^(4*pi) + sqrt(3) - 8) - 4*pi*((16*sqrt(3) - 43)*e^(8*pi) - 16*sqrt(3) + 43))*sqrt(752*sqrt(3) + 2401) + 8*(17*pi^2*((sqrt(3) + 8)*e^(8*pi) - 2*(sqrt(3) + 8)*e^(4*pi) + sqrt(3) + 8) - 2*pi*((16*sqrt(3) + 43)*e^(8*pi) - 16*sqrt(3) - 43))*sqrt(-752*sqrt(3) + 2401) - 2*(17*pi^2*((sqrt(3) + 8)*e^(8*pi) - 2*(sqrt(3) + 8)*e^(4*pi) + sqrt(3) + 8) + 2*pi*((52*sqrt(3) - 77)*e^(8*pi) - 52*sqrt(3) + 77))*sqrt(-1560*sqrt(3) + 3379))/(e^(8*pi) - 2*e^(4*pi) + 1)"
      ]
     },
     "execution_count": 7,
     "metadata": {},
     "output_type": "execute_result"
    }
   ],
   "source": [
    "rational_SUM(289/((n^2+4)*(n-1/2)^2)).canonicalize_radical()"
   ]
  },
  {
   "cell_type": "code",
   "execution_count": 6,
   "metadata": {},
   "outputs": [
    {
     "data": {
      "text/plain": [
       "576.88466231554257237758012900040504404792815179701570872780"
      ]
     },
     "execution_count": 6,
     "metadata": {},
     "output_type": "execute_result"
    }
   ],
   "source": [
    "(68*pi^2 - (30*pi*(e^(4*pi)+1)/(e^(4*pi)-1))).n(200)"
   ]
  },
  {
   "cell_type": "code",
   "execution_count": 26,
   "metadata": {},
   "outputs": [
    {
     "data": {
      "text/plain": [
       "[8/27*I*pi^3*x^2*e^(-2/3*I*pi*x)/(-I*sqrt(3) - 3) + 8/27*I*pi^3*x*(I*sqrt(3) + 1)*e^(-2/3*I*pi*x)/((-1/2*I*sqrt(3) - 3/2)*(-I*sqrt(3) - 3)) - 4/27*I*pi^3*((I*sqrt(3) + 1)*(-I*sqrt(3) - 1)/((-1/2*I*sqrt(3) - 3/2)*(-I*sqrt(3) - 3)) + (-I*sqrt(3) - 1)/(-I*sqrt(3) - 3))*e^(-2/3*I*pi*x)/(-1/2*I*sqrt(3) - 3/2),\n",
       " -4/27*I*pi^3*x^2*(9*I*sqrt(1/3) - 1)*e^(-2/3*I*pi*x)/(-I*sqrt(3) - 3) - 4/27*I*pi^3*x*(I*sqrt(3) + 1)*(9*I*sqrt(1/3) - 1)*e^(-2/3*I*pi*x)/((-1/2*I*sqrt(3) - 3/2)*(-I*sqrt(3) - 3)) + 2/27*I*pi^3*(9*I*sqrt(1/3) - 1)*((I*sqrt(3) + 1)*(-I*sqrt(3) - 1)/((-1/2*I*sqrt(3) - 3/2)*(-I*sqrt(3) - 3)) + (-I*sqrt(3) - 1)/(-I*sqrt(3) - 3))*e^(-2/3*I*pi*x)/(-1/2*I*sqrt(3) - 3/2) + 4/9*pi^2*x*e^(-2/3*I*pi*x)/(-1/2*I*sqrt(3) - 3/2) - 2/9*pi^2*(-I*sqrt(3) - 1)*e^(-2/3*I*pi*x)/(-1/2*I*sqrt(3) - 3/2)^2,\n",
       " -8/27*I*pi^3*x^2*e^(-2/3*I*pi*x)/(-I*sqrt(3) - 3) - 8/27*I*pi^3*x*(I*sqrt(3) + 1)*e^(-2/3*I*pi*x)/((-1/2*I*sqrt(3) - 3/2)*(-I*sqrt(3) - 3)) + 4/27*I*pi^3*((I*sqrt(3) + 1)*(-I*sqrt(3) - 1)/((-1/2*I*sqrt(3) - 3/2)*(-I*sqrt(3) - 3)) + (-I*sqrt(3) - 1)/(-I*sqrt(3) - 3))*e^(-2/3*I*pi*x)/(-1/2*I*sqrt(3) - 3/2) + 4/9*pi^2*x*e^(-2/3*I*pi*x)/(-1/2*I*sqrt(3) - 3/2) - 2/9*pi^2*(-I*sqrt(3) - 1)*e^(-2/3*I*pi*x)/(-1/2*I*sqrt(3) - 3/2)^2,\n",
       " 8/9*I*pi^3*x^2*e^(-2/3*I*pi*x)/(-I*sqrt(3) - 3) + 8/9*I*pi^3*x*(I*sqrt(3) + 1)*e^(-2/3*I*pi*x)/((-1/2*I*sqrt(3) - 3/2)*(-I*sqrt(3) - 3)) - 4/9*I*pi^3*((I*sqrt(3) + 1)*(-I*sqrt(3) - 1)/((-1/2*I*sqrt(3) - 3/2)*(-I*sqrt(3) - 3)) + (-I*sqrt(3) - 1)/(-I*sqrt(3) - 3))*e^(-2/3*I*pi*x)/(-1/2*I*sqrt(3) - 3/2),\n",
       " -8/9*I*sqrt(1/3)*pi^3*x^2*e^(-2/3*I*pi*x)/(-I*sqrt(3) - 3) - 8/9*I*sqrt(1/3)*pi^3*x*(I*sqrt(3) + 1)*e^(-2/3*I*pi*x)/((-1/2*I*sqrt(3) - 3/2)*(-I*sqrt(3) - 3)) + 4/9*I*sqrt(1/3)*pi^3*((I*sqrt(3) + 1)*(-I*sqrt(3) - 1)/((-1/2*I*sqrt(3) - 3/2)*(-I*sqrt(3) - 3)) + (-I*sqrt(3) - 1)/(-I*sqrt(3) - 3))*e^(-2/3*I*pi*x)/(-1/2*I*sqrt(3) - 3/2) + 4/3*sqrt(1/3)*pi^2*x*e^(-2/3*I*pi*x)/(-1/2*I*sqrt(3) - 3/2) - 2/3*sqrt(1/3)*pi^2*(-I*sqrt(3) - 1)*e^(-2/3*I*pi*x)/(-1/2*I*sqrt(3) - 3/2)^2,\n",
       " -8/27*I*pi^3*x^2*sqrt(-1/2*I*sqrt(3) - 13/6)*e^(-2/3*I*pi*x)/(-I*sqrt(3) - 3) - 8/27*I*pi^3*x*(I*sqrt(3) + 1)*sqrt(-1/2*I*sqrt(3) - 13/6)*e^(-2/3*I*pi*x)/((-1/2*I*sqrt(3) - 3/2)*(-I*sqrt(3) - 3)) + 4/27*I*pi^3*sqrt(-1/2*I*sqrt(3) - 13/6)*((I*sqrt(3) + 1)*(-I*sqrt(3) - 1)/((-1/2*I*sqrt(3) - 3/2)*(-I*sqrt(3) - 3)) + (-I*sqrt(3) - 1)/(-I*sqrt(3) - 3))*e^(-2/3*I*pi*x)/(-1/2*I*sqrt(3) - 3/2) - 4/9*pi^2*x*sqrt(1/2*I*sqrt(3) - 13/6)*e^(-2/3*I*pi*x)/(-1/2*I*sqrt(3) - 3/2) + 2/9*pi^2*sqrt(1/2*I*sqrt(3) - 13/6)*(-I*sqrt(3) - 1)*e^(-2/3*I*pi*x)/(-1/2*I*sqrt(3) - 3/2)^2 - 2/3*I*sqrt(1/3)*pi*e^(-2/3*I*pi*x)/(-1/2*I*sqrt(3) - 3/2),\n",
       " 8/27*I*sqrt(1/3)*pi^3*x^2*e^(-2/3*I*pi*x)/(-I*sqrt(3) - 3) + 8/27*I*sqrt(1/3)*pi^3*x*(I*sqrt(3) + 1)*e^(-2/3*I*pi*x)/((-1/2*I*sqrt(3) - 3/2)*(-I*sqrt(3) - 3)) - 4/27*I*sqrt(1/3)*pi^3*((I*sqrt(3) + 1)*(-I*sqrt(3) - 1)/((-1/2*I*sqrt(3) - 3/2)*(-I*sqrt(3) - 3)) + (-I*sqrt(3) - 1)/(-I*sqrt(3) - 3))*e^(-2/3*I*pi*x)/(-1/2*I*sqrt(3) - 3/2) - 8/9*sqrt(1/3)*pi^2*x*e^(-2/3*I*pi*x)/(-1/2*I*sqrt(3) - 3/2) + 4/9*sqrt(1/3)*pi^2*(-I*sqrt(3) - 1)*e^(-2/3*I*pi*x)/(-1/2*I*sqrt(3) - 3/2)^2 - 2/3*I*sqrt(1/3)*pi*e^(-2/3*I*pi*x)/(-1/2*I*sqrt(3) - 3/2),\n",
       " -8/9*I*sqrt(1/3)*pi^3*x^2*e^(-2/3*I*pi*x)/(-I*sqrt(3) - 3) - 8/9*I*sqrt(1/3)*pi^3*x*(I*sqrt(3) + 1)*e^(-2/3*I*pi*x)/((-1/2*I*sqrt(3) - 3/2)*(-I*sqrt(3) - 3)) + 4/9*I*sqrt(1/3)*pi^3*((I*sqrt(3) + 1)*(-I*sqrt(3) - 1)/((-1/2*I*sqrt(3) - 3/2)*(-I*sqrt(3) - 3)) + (-I*sqrt(3) - 1)/(-I*sqrt(3) - 3))*e^(-2/3*I*pi*x)/(-1/2*I*sqrt(3) - 3/2) + 4/3*sqrt(1/3)*pi^2*x*e^(-2/3*I*pi*x)/(-1/2*I*sqrt(3) - 3/2) - 2/3*sqrt(1/3)*pi^2*(-I*sqrt(3) - 1)*e^(-2/3*I*pi*x)/(-1/2*I*sqrt(3) - 3/2)^2]"
      ]
     },
     "execution_count": 26,
     "metadata": {},
     "output_type": "execute_result"
    }
   ],
   "source": [
    "rational_func(1/(3*n+1)^3)"
   ]
  },
  {
   "cell_type": "code",
   "execution_count": 6,
   "metadata": {},
   "outputs": [],
   "source": [
    "y = var('y')\n",
    "a = sum((-1)^y/(y+I), y, -oo, oo)"
   ]
  },
  {
   "cell_type": "code",
   "execution_count": 7,
   "metadata": {},
   "outputs": [
    {
     "data": {
      "text/plain": [
       "1/2*psi(-1/2*I + 1) + 1/2*psi(1/2*I + 1/2) - 1/2*psi(-1/2*I + 1/2) - 1/2*psi(1/2*I)"
      ]
     },
     "execution_count": 7,
     "metadata": {},
     "output_type": "execute_result"
    }
   ],
   "source": [
    "a"
   ]
  },
  {
   "cell_type": "code",
   "execution_count": 8,
   "metadata": {},
   "outputs": [
    {
     "data": {
      "text/plain": [
       "-0.27202905498213316295023658367203755584071836346031594950690*I"
      ]
     },
     "execution_count": 8,
     "metadata": {},
     "output_type": "execute_result"
    }
   ],
   "source": [
    "a.n(200)"
   ]
  },
  {
   "cell_type": "code",
   "execution_count": 10,
   "metadata": {},
   "outputs": [
    {
     "data": {
      "text/plain": [
       "-0.27202905498213316295023658367203755584071836346031594950690*I"
      ]
     },
     "execution_count": 10,
     "metadata": {},
     "output_type": "execute_result"
    }
   ],
   "source": [
    "(-2*pi*I*exp(pi)/(exp(2*pi)-1)).n(200)"
   ]
  },
  {
   "cell_type": "code",
   "execution_count": 16,
   "metadata": {},
   "outputs": [],
   "source": [
    "y = var('y')\n",
    "c = sum(-I/(y^2+1), y, -oo, oo)"
   ]
  },
  {
   "cell_type": "code",
   "execution_count": 17,
   "metadata": {},
   "outputs": [
    {
     "data": {
      "text/plain": [
       "-1/2*psi(I + 1) + 1/2*psi(-I + 1) - 1/2*psi(I) + 1/2*psi(-I)"
      ]
     },
     "execution_count": 17,
     "metadata": {},
     "output_type": "execute_result"
    }
   ],
   "source": [
    "c"
   ]
  },
  {
   "cell_type": "code",
   "execution_count": 18,
   "metadata": {},
   "outputs": [
    {
     "data": {
      "text/plain": [
       "-3.1533480949371623482681015895000009808913125328076333311501*I"
      ]
     },
     "execution_count": 18,
     "metadata": {},
     "output_type": "execute_result"
    }
   ],
   "source": [
    "c.n(200)"
   ]
  },
  {
   "cell_type": "code",
   "execution_count": 15,
   "metadata": {},
   "outputs": [
    {
     "data": {
      "text/plain": [
       "-3.1533480949371623482681015895000009808913125328076333311501*I"
      ]
     },
     "execution_count": 15,
     "metadata": {},
     "output_type": "execute_result"
    }
   ],
   "source": [
    "(-pi*coth(pi)*I).n(200)"
   ]
  },
  {
   "cell_type": "code",
   "execution_count": 3,
   "metadata": {},
   "outputs": [
    {
     "data": {
      "text/plain": [
       "-I*sqrt(2)*pi*e^(2*(-1)^(1/4)*pi*x)/(e^(2*(-1)^(1/4)*pi) - 1) + I*sqrt(2)*pi*e^(-2*I*(-1)^(1/4)*pi*x)/(e^(-2*I*(-1)^(1/4)*pi) - 1)"
      ]
     },
     "execution_count": 3,
     "metadata": {},
     "output_type": "execute_result"
    }
   ],
   "source": [
    "required_function(1/(n^4+1), True, False)"
   ]
  },
  {
   "cell_type": "code",
   "execution_count": 3,
   "metadata": {},
   "outputs": [
    {
     "name": "stdout",
     "output_type": "stream",
     "text": [
      "0.88402381175007985674305791687101180774794618611765893478258\n"
     ]
    },
    {
     "data": {
      "text/plain": [
       "4/243*sqrt(3)*pi^3"
      ]
     },
     "execution_count": 3,
     "metadata": {},
     "output_type": "execute_result"
    }
   ],
   "source": [
    "rational_SUM(1/(3*n+1)^3)"
   ]
  },
  {
   "cell_type": "code",
   "execution_count": 4,
   "metadata": {},
   "outputs": [
    {
     "name": "stdout",
     "output_type": "stream",
     "text": [
      "1.0395749709575137754016364864751751228798884084622365052931\n"
     ]
    }
   ],
   "source": [
    "b = SUM(1/(((3*n+1)^2)*(n^2+1)^3))"
   ]
  },
  {
   "cell_type": "code",
   "execution_count": 5,
   "metadata": {},
   "outputs": [
    {
     "data": {
      "text/plain": [
       "-1/5000*(400*pi^3*(e^(4*pi) + e^(2*pi)) - 60*pi^2*(9*e^(6*pi) - 46*e^(4*pi) + 46*e^(2*pi) - 9) - 3*pi*((81*sqrt(3) - 149)*e^(6*pi) - (243*sqrt(3) - 149)*e^(4*pi) + (243*sqrt(3) + 149)*e^(2*pi) - 81*sqrt(3) - 149))/(e^(6*pi) - 3*e^(4*pi) + 3*e^(2*pi) - 1)"
      ]
     },
     "execution_count": 5,
     "metadata": {},
     "output_type": "execute_result"
    }
   ],
   "source": [
    "b"
   ]
  },
  {
   "cell_type": "code",
   "execution_count": 25,
   "metadata": {},
   "outputs": [],
   "source": [
    "# display(Math(latex(b)))"
   ]
  },
  {
   "cell_type": "code",
   "execution_count": 2,
   "metadata": {},
   "outputs": [
    {
     "ename": "RuntimeError",
     "evalue": "ECL says: Error executing code in Maxima: ",
     "output_type": "error",
     "traceback": [
      "\u001b[0;31m---------------------------------------------------------------------------\u001b[0m",
      "\u001b[0;31mRuntimeError\u001b[0m                              Traceback (most recent call last)",
      "\u001b[0;32m<ipython-input-2-cc020c7742cb>\u001b[0m in \u001b[0;36m<module>\u001b[0;34m()\u001b[0m\n\u001b[1;32m      1\u001b[0m \u001b[0my\u001b[0m \u001b[0;34m=\u001b[0m \u001b[0mvar\u001b[0m\u001b[0;34m(\u001b[0m\u001b[0;34m'y'\u001b[0m\u001b[0;34m)\u001b[0m\u001b[0;34m\u001b[0m\u001b[0;34m\u001b[0m\u001b[0m\n\u001b[0;32m----> 2\u001b[0;31m \u001b[0msum\u001b[0m\u001b[0;34m(\u001b[0m\u001b[0mInteger\u001b[0m\u001b[0;34m(\u001b[0m\u001b[0;36m1\u001b[0m\u001b[0;34m)\u001b[0m\u001b[0;34m/\u001b[0m\u001b[0;34m(\u001b[0m\u001b[0;34m(\u001b[0m\u001b[0;34m(\u001b[0m\u001b[0mInteger\u001b[0m\u001b[0;34m(\u001b[0m\u001b[0;36m3\u001b[0m\u001b[0;34m)\u001b[0m\u001b[0;34m*\u001b[0m\u001b[0my\u001b[0m\u001b[0;34m+\u001b[0m\u001b[0mInteger\u001b[0m\u001b[0;34m(\u001b[0m\u001b[0;36m1\u001b[0m\u001b[0;34m)\u001b[0m\u001b[0;34m)\u001b[0m\u001b[0;34m**\u001b[0m\u001b[0mInteger\u001b[0m\u001b[0;34m(\u001b[0m\u001b[0;36m2\u001b[0m\u001b[0;34m)\u001b[0m\u001b[0;34m)\u001b[0m\u001b[0;34m*\u001b[0m\u001b[0;34m(\u001b[0m\u001b[0my\u001b[0m\u001b[0;34m**\u001b[0m\u001b[0mInteger\u001b[0m\u001b[0;34m(\u001b[0m\u001b[0;36m2\u001b[0m\u001b[0;34m)\u001b[0m\u001b[0;34m+\u001b[0m\u001b[0mInteger\u001b[0m\u001b[0;34m(\u001b[0m\u001b[0;36m1\u001b[0m\u001b[0;34m)\u001b[0m\u001b[0;34m)\u001b[0m\u001b[0;34m**\u001b[0m\u001b[0mInteger\u001b[0m\u001b[0;34m(\u001b[0m\u001b[0;36m3\u001b[0m\u001b[0;34m)\u001b[0m\u001b[0;34m)\u001b[0m\u001b[0;34m,\u001b[0m \u001b[0my\u001b[0m\u001b[0;34m,\u001b[0m \u001b[0;34m-\u001b[0m\u001b[0moo\u001b[0m\u001b[0;34m,\u001b[0m \u001b[0moo\u001b[0m\u001b[0;34m)\u001b[0m\u001b[0;34m\u001b[0m\u001b[0;34m\u001b[0m\u001b[0m\n\u001b[0m",
      "\u001b[0;32m/home/admin/sage-9.0/local/lib/python3.7/site-packages/sage/misc/functional.py\u001b[0m in \u001b[0;36msymbolic_sum\u001b[0;34m(expression, *args, **kwds)\u001b[0m\n\u001b[1;32m    573\u001b[0m     \"\"\"\n\u001b[1;32m    574\u001b[0m     \u001b[0;32mif\u001b[0m \u001b[0mhasattr\u001b[0m\u001b[0;34m(\u001b[0m\u001b[0mexpression\u001b[0m\u001b[0;34m,\u001b[0m \u001b[0;34m'sum'\u001b[0m\u001b[0;34m)\u001b[0m\u001b[0;34m:\u001b[0m\u001b[0;34m\u001b[0m\u001b[0;34m\u001b[0m\u001b[0m\n\u001b[0;32m--> 575\u001b[0;31m         \u001b[0;32mreturn\u001b[0m \u001b[0mexpression\u001b[0m\u001b[0;34m.\u001b[0m\u001b[0msum\u001b[0m\u001b[0;34m(\u001b[0m\u001b[0;34m*\u001b[0m\u001b[0margs\u001b[0m\u001b[0;34m,\u001b[0m \u001b[0;34m**\u001b[0m\u001b[0mkwds\u001b[0m\u001b[0;34m)\u001b[0m\u001b[0;34m\u001b[0m\u001b[0;34m\u001b[0m\u001b[0m\n\u001b[0m\u001b[1;32m    576\u001b[0m     \u001b[0;32melif\u001b[0m \u001b[0mlen\u001b[0m\u001b[0;34m(\u001b[0m\u001b[0margs\u001b[0m\u001b[0;34m)\u001b[0m \u001b[0;34m<=\u001b[0m \u001b[0;36m1\u001b[0m\u001b[0;34m:\u001b[0m\u001b[0;34m\u001b[0m\u001b[0;34m\u001b[0m\u001b[0m\n\u001b[1;32m    577\u001b[0m         \u001b[0;32mreturn\u001b[0m \u001b[0msum\u001b[0m\u001b[0;34m(\u001b[0m\u001b[0mexpression\u001b[0m\u001b[0;34m,\u001b[0m \u001b[0;34m*\u001b[0m\u001b[0margs\u001b[0m\u001b[0;34m)\u001b[0m\u001b[0;34m\u001b[0m\u001b[0;34m\u001b[0m\u001b[0m\n",
      "\u001b[0;32m/home/admin/sage-9.0/local/lib/python3.7/site-packages/sage/symbolic/expression.pyx\u001b[0m in \u001b[0;36msage.symbolic.expression.Expression.sum (build/cythonized/sage/symbolic/expression.cpp:63901)\u001b[0;34m()\u001b[0m\n\u001b[1;32m  12281\u001b[0m         \"\"\"\n\u001b[1;32m  12282\u001b[0m         \u001b[0;32mfrom\u001b[0m \u001b[0msage\u001b[0m\u001b[0;34m.\u001b[0m\u001b[0mcalculus\u001b[0m\u001b[0;34m.\u001b[0m\u001b[0mcalculus\u001b[0m \u001b[0;32mimport\u001b[0m \u001b[0msymbolic_sum\u001b[0m\u001b[0;34m\u001b[0m\u001b[0;34m\u001b[0m\u001b[0m\n\u001b[0;32m> 12283\u001b[0;31m         \u001b[0;32mreturn\u001b[0m \u001b[0msymbolic_sum\u001b[0m\u001b[0;34m(\u001b[0m\u001b[0mself\u001b[0m\u001b[0;34m,\u001b[0m \u001b[0;34m*\u001b[0m\u001b[0margs\u001b[0m\u001b[0;34m,\u001b[0m \u001b[0;34m**\u001b[0m\u001b[0mkwds\u001b[0m\u001b[0;34m)\u001b[0m\u001b[0;34m\u001b[0m\u001b[0;34m\u001b[0m\u001b[0m\n\u001b[0m\u001b[1;32m  12284\u001b[0m \u001b[0;34m\u001b[0m\u001b[0m\n\u001b[1;32m  12285\u001b[0m     \u001b[0;32mdef\u001b[0m \u001b[0mprod\u001b[0m\u001b[0;34m(\u001b[0m\u001b[0mself\u001b[0m\u001b[0;34m,\u001b[0m \u001b[0;34m*\u001b[0m\u001b[0margs\u001b[0m\u001b[0;34m,\u001b[0m \u001b[0;34m**\u001b[0m\u001b[0mkwds\u001b[0m\u001b[0;34m)\u001b[0m\u001b[0;34m:\u001b[0m\u001b[0;34m\u001b[0m\u001b[0;34m\u001b[0m\u001b[0m\n",
      "\u001b[0;32m/home/admin/sage-9.0/local/lib/python3.7/site-packages/sage/calculus/calculus.py\u001b[0m in \u001b[0;36msymbolic_sum\u001b[0;34m(expression, v, a, b, algorithm, hold)\u001b[0m\n\u001b[1;32m    610\u001b[0m \u001b[0;34m\u001b[0m\u001b[0m\n\u001b[1;32m    611\u001b[0m     \u001b[0;32mif\u001b[0m \u001b[0malgorithm\u001b[0m \u001b[0;34m==\u001b[0m \u001b[0;34m'maxima'\u001b[0m\u001b[0;34m:\u001b[0m\u001b[0;34m\u001b[0m\u001b[0;34m\u001b[0m\u001b[0m\n\u001b[0;32m--> 612\u001b[0;31m         \u001b[0;32mreturn\u001b[0m \u001b[0mmaxima\u001b[0m\u001b[0;34m.\u001b[0m\u001b[0msr_sum\u001b[0m\u001b[0;34m(\u001b[0m\u001b[0mexpression\u001b[0m\u001b[0;34m,\u001b[0m\u001b[0mv\u001b[0m\u001b[0;34m,\u001b[0m\u001b[0ma\u001b[0m\u001b[0;34m,\u001b[0m\u001b[0mb\u001b[0m\u001b[0;34m)\u001b[0m\u001b[0;34m\u001b[0m\u001b[0;34m\u001b[0m\u001b[0m\n\u001b[0m\u001b[1;32m    613\u001b[0m \u001b[0;34m\u001b[0m\u001b[0m\n\u001b[1;32m    614\u001b[0m     \u001b[0;32melif\u001b[0m \u001b[0malgorithm\u001b[0m \u001b[0;34m==\u001b[0m \u001b[0;34m'mathematica'\u001b[0m\u001b[0;34m:\u001b[0m\u001b[0;34m\u001b[0m\u001b[0;34m\u001b[0m\u001b[0m\n",
      "\u001b[0;32m/home/admin/sage-9.0/local/lib/python3.7/site-packages/sage/interfaces/maxima_lib.py\u001b[0m in \u001b[0;36msr_sum\u001b[0;34m(self, *args)\u001b[0m\n\u001b[1;32m    874\u001b[0m         \"\"\"\n\u001b[1;32m    875\u001b[0m         \u001b[0;32mtry\u001b[0m\u001b[0;34m:\u001b[0m\u001b[0;34m\u001b[0m\u001b[0;34m\u001b[0m\u001b[0m\n\u001b[0;32m--> 876\u001b[0;31m             \u001b[0;32mreturn\u001b[0m \u001b[0mmax_to_sr\u001b[0m\u001b[0;34m(\u001b[0m\u001b[0mmaxima_eval\u001b[0m\u001b[0;34m(\u001b[0m\u001b[0;34m[\u001b[0m\u001b[0;34m[\u001b[0m\u001b[0mmax_ratsimp\u001b[0m\u001b[0;34m]\u001b[0m\u001b[0;34m,\u001b[0m\u001b[0;34m[\u001b[0m\u001b[0;34m[\u001b[0m\u001b[0mmax_simplify_sum\u001b[0m\u001b[0;34m]\u001b[0m\u001b[0;34m,\u001b[0m\u001b[0;34m(\u001b[0m\u001b[0;34m[\u001b[0m\u001b[0mmax_sum\u001b[0m\u001b[0;34m]\u001b[0m\u001b[0;34m,\u001b[0m\u001b[0;34m[\u001b[0m\u001b[0msr_to_max\u001b[0m\u001b[0;34m(\u001b[0m\u001b[0mSR\u001b[0m\u001b[0;34m(\u001b[0m\u001b[0ma\u001b[0m\u001b[0;34m)\u001b[0m\u001b[0;34m)\u001b[0m \u001b[0;32mfor\u001b[0m \u001b[0ma\u001b[0m \u001b[0;32min\u001b[0m \u001b[0margs\u001b[0m\u001b[0;34m]\u001b[0m\u001b[0;34m)\u001b[0m\u001b[0;34m]\u001b[0m\u001b[0;34m]\u001b[0m\u001b[0;34m)\u001b[0m\u001b[0;34m)\u001b[0m\u001b[0;34m;\u001b[0m\u001b[0;34m\u001b[0m\u001b[0;34m\u001b[0m\u001b[0m\n\u001b[0m\u001b[1;32m    877\u001b[0m         \u001b[0;32mexcept\u001b[0m \u001b[0mRuntimeError\u001b[0m \u001b[0;32mas\u001b[0m \u001b[0merror\u001b[0m\u001b[0;34m:\u001b[0m\u001b[0;34m\u001b[0m\u001b[0;34m\u001b[0m\u001b[0m\n\u001b[1;32m    878\u001b[0m             \u001b[0ms\u001b[0m \u001b[0;34m=\u001b[0m \u001b[0mstr\u001b[0m\u001b[0;34m(\u001b[0m\u001b[0merror\u001b[0m\u001b[0;34m)\u001b[0m\u001b[0;34m\u001b[0m\u001b[0;34m\u001b[0m\u001b[0m\n",
      "\u001b[0;32m/home/admin/sage-9.0/local/lib/python3.7/site-packages/sage/libs/ecl.pyx\u001b[0m in \u001b[0;36msage.libs.ecl.EclObject.__call__ (build/cythonized/sage/libs/ecl.c:7793)\u001b[0;34m()\u001b[0m\n\u001b[1;32m    803\u001b[0m         \"\"\"\n\u001b[1;32m    804\u001b[0m         \u001b[0mlispargs\u001b[0m \u001b[0;34m=\u001b[0m \u001b[0mEclObject\u001b[0m\u001b[0;34m(\u001b[0m\u001b[0mlist\u001b[0m\u001b[0;34m(\u001b[0m\u001b[0margs\u001b[0m\u001b[0;34m)\u001b[0m\u001b[0;34m)\u001b[0m\u001b[0;34m\u001b[0m\u001b[0;34m\u001b[0m\u001b[0m\n\u001b[0;32m--> 805\u001b[0;31m         \u001b[0;32mreturn\u001b[0m \u001b[0mecl_wrap\u001b[0m\u001b[0;34m(\u001b[0m\u001b[0mecl_safe_apply\u001b[0m\u001b[0;34m(\u001b[0m\u001b[0mself\u001b[0m\u001b[0;34m.\u001b[0m\u001b[0mobj\u001b[0m\u001b[0;34m,\u001b[0m\u001b[0;34m(\u001b[0m\u001b[0;34m<\u001b[0m\u001b[0mEclObject\u001b[0m\u001b[0;34m>\u001b[0m\u001b[0mlispargs\u001b[0m\u001b[0;34m)\u001b[0m\u001b[0;34m.\u001b[0m\u001b[0mobj\u001b[0m\u001b[0;34m)\u001b[0m\u001b[0;34m)\u001b[0m\u001b[0;34m\u001b[0m\u001b[0;34m\u001b[0m\u001b[0m\n\u001b[0m\u001b[1;32m    806\u001b[0m \u001b[0;34m\u001b[0m\u001b[0m\n\u001b[1;32m    807\u001b[0m     \u001b[0;32mdef\u001b[0m \u001b[0m__richcmp__\u001b[0m\u001b[0;34m(\u001b[0m\u001b[0mleft\u001b[0m\u001b[0;34m,\u001b[0m \u001b[0mright\u001b[0m\u001b[0;34m,\u001b[0m \u001b[0mint\u001b[0m \u001b[0mop\u001b[0m\u001b[0;34m)\u001b[0m\u001b[0;34m:\u001b[0m\u001b[0;34m\u001b[0m\u001b[0;34m\u001b[0m\u001b[0m\n",
      "\u001b[0;32m/home/admin/sage-9.0/local/lib/python3.7/site-packages/sage/libs/ecl.pyx\u001b[0m in \u001b[0;36msage.libs.ecl.ecl_safe_apply (build/cythonized/sage/libs/ecl.c:5455)\u001b[0;34m()\u001b[0m\n\u001b[1;32m    375\u001b[0m     \u001b[0;32mif\u001b[0m \u001b[0mecl_nvalues\u001b[0m \u001b[0;34m>\u001b[0m \u001b[0;36m1\u001b[0m\u001b[0;34m:\u001b[0m\u001b[0;34m\u001b[0m\u001b[0;34m\u001b[0m\u001b[0m\n\u001b[1;32m    376\u001b[0m         \u001b[0ms\u001b[0m \u001b[0;34m=\u001b[0m \u001b[0msi_coerce_to_base_string\u001b[0m\u001b[0;34m(\u001b[0m\u001b[0mecl_values\u001b[0m\u001b[0;34m(\u001b[0m\u001b[0;36m1\u001b[0m\u001b[0;34m)\u001b[0m\u001b[0;34m)\u001b[0m\u001b[0;34m\u001b[0m\u001b[0;34m\u001b[0m\u001b[0m\n\u001b[0;32m--> 377\u001b[0;31m         raise RuntimeError(\"ECL says: {}\".format(\n\u001b[0m\u001b[1;32m    378\u001b[0m             char_to_str(ecl_base_string_pointer_safe(s))))\n\u001b[1;32m    379\u001b[0m     \u001b[0;32melse\u001b[0m\u001b[0;34m:\u001b[0m\u001b[0;34m\u001b[0m\u001b[0;34m\u001b[0m\u001b[0m\n",
      "\u001b[0;31mRuntimeError\u001b[0m: ECL says: Error executing code in Maxima: "
     ]
    }
   ],
   "source": [
    "y = var('y')\n",
    "sum(1/(((3*y+1)^2)*(y^2+1)^3), y, -oo, oo)"
   ]
  },
  {
   "cell_type": "code",
   "execution_count": null,
   "metadata": {},
   "outputs": [],
   "source": []
  }
 ],
 "metadata": {
  "kernelspec": {
   "display_name": "SageMath 9.0",
   "language": "sage",
   "name": "sagemath"
  },
  "language_info": {
   "codemirror_mode": {
    "name": "ipython",
    "version": 3
   },
   "file_extension": ".py",
   "mimetype": "text/x-python",
   "name": "python",
   "nbconvert_exporter": "python",
   "pygments_lexer": "ipython3",
   "version": "3.7.3"
  }
 },
 "nbformat": 4,
 "nbformat_minor": 2
}
