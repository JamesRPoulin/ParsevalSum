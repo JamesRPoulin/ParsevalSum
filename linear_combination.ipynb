{
 "cells": [
  {
   "cell_type": "code",
   "execution_count": null,
   "metadata": {},
   "outputs": [],
   "source": [
    "load('sum_of_nonnegative_rational_function.sage')\n",
    "load('compute_zeta_values.sage')\n",
    "\n",
    "def lin_comb(rational_expression):\n",
    "    numer = rational_expression.numerator()\n",
    "    denom = rational_expression.denominator()\n",
    "    product = numer*denom\n",
    "    coeff_list = []\n",
    "    for i in range(0,product.degree()+1):\n",
    "        if product[i] != 0:\n",
    "            coeff_list.append([product[i], i])\n",
    "    nonneg_list = []\n",
    "    for i in coeff_list:\n",
    "        if i[1]%2 == 1:\n",
    "            nonneg_list.append((i[0]*(n^(i[1]+1)+n^(i[1])+n^(i[1]-1)))/((denom)^2))\n",
    "            nonneg_list.append((-i[0]*(n^(i[1]+1)))/((denom)^2))\n",
    "            nonneg_list.append((-i[0]*(n^(i[1]-1)))/((denom)^2))\n",
    "        else:\n",
    "            nonneg_list.append((i[0]*(n^(i[1])))/((denom)^2))\n",
    "    return nonneg_list\n",
    "\n",
    "def rational_func(rational_expression):\n",
    "    list_of_nonneg = lin_comb(rational_expression)\n",
    "    funcs = []\n",
    "    for i in list_of_nonneg:\n",
    "        funcs.append(required_function(i, True, False))\n",
    "    return funcs\n",
    "\n",
    "def rational_SUM(rational_expression, sub_approx = False):\n",
    "    list_of_nonneg = lin_comb(rational_expression)\n",
    "    answer = 0\n",
    "    for i in list_of_nonneg:\n",
    "        answer += SUM(i, sub_approx)\n",
    "    print(answer.n(200))\n",
    "    return (answer).canonicalize_radical()"
   ]
  },
  {
   "cell_type": "code",
   "execution_count": null,
   "metadata": {},
   "outputs": [],
   "source": [
    "rational_SUM(289/((n^2+4)*(n-1/2)^2)).canonicalize_radical()"
   ]
  },
  {
   "cell_type": "code",
   "execution_count": null,
   "metadata": {},
   "outputs": [],
   "source": [
    "(68*pi^2 - (30*pi*(e^(4*pi)+1)/(e^(4*pi)-1))).n(200)"
   ]
  },
  {
   "cell_type": "code",
   "execution_count": null,
   "metadata": {},
   "outputs": [],
   "source": [
    "rational_func(1/(3*n+1)^3)"
   ]
  },
  {
   "cell_type": "code",
   "execution_count": null,
   "metadata": {},
   "outputs": [],
   "source": [
    "y = var('y')\n",
    "a = sum((-1)^y/(y+I), y, -oo, oo)"
   ]
  },
  {
   "cell_type": "code",
   "execution_count": null,
   "metadata": {},
   "outputs": [],
   "source": [
    "a"
   ]
  },
  {
   "cell_type": "code",
   "execution_count": null,
   "metadata": {},
   "outputs": [],
   "source": [
    "a.n(200)"
   ]
  },
  {
   "cell_type": "code",
   "execution_count": null,
   "metadata": {},
   "outputs": [],
   "source": [
    "(-2*pi*I*exp(pi)/(exp(2*pi)-1)).n(200)"
   ]
  },
  {
   "cell_type": "code",
   "execution_count": null,
   "metadata": {},
   "outputs": [],
   "source": [
    "y = var('y')\n",
    "c = sum(-I/(y^2+1), y, -oo, oo)"
   ]
  },
  {
   "cell_type": "code",
   "execution_count": null,
   "metadata": {},
   "outputs": [],
   "source": [
    "c"
   ]
  },
  {
   "cell_type": "code",
   "execution_count": null,
   "metadata": {},
   "outputs": [],
   "source": [
    "c.n(200)"
   ]
  },
  {
   "cell_type": "code",
   "execution_count": null,
   "metadata": {},
   "outputs": [],
   "source": [
    "(-pi*coth(pi)*I).n(200)"
   ]
  },
  {
   "cell_type": "code",
   "execution_count": null,
   "metadata": {},
   "outputs": [],
   "source": [
    "required_function(1/(n^4+1), True, False)"
   ]
  },
  {
   "cell_type": "code",
   "execution_count": null,
   "metadata": {},
   "outputs": [],
   "source": [
    "rational_SUM(1/(3*n+1)^3)"
   ]
  },
  {
   "cell_type": "code",
   "execution_count": null,
   "metadata": {},
   "outputs": [],
   "source": [
    "b = SUM(1/(((3*n+1)^2)*(n^2+1)^3))"
   ]
  },
  {
   "cell_type": "code",
   "execution_count": null,
   "metadata": {},
   "outputs": [],
   "source": [
    "b"
   ]
  },
  {
   "cell_type": "code",
   "execution_count": null,
   "metadata": {},
   "outputs": [],
   "source": [
    "# display(Math(latex(b)))"
   ]
  },
  {
   "cell_type": "code",
   "execution_count": null,
   "metadata": {},
   "outputs": [],
   "source": [
    "y = var('y')\n",
    "sum(1/(((3*y+1)^2)*(y^2+1)^3), y, -oo, oo)"
   ]
  },
  {
   "cell_type": "code",
   "execution_count": null,
   "metadata": {},
   "outputs": [],
   "source": []
  },
  {
   "cell_type": "code",
   "execution_count": null,
   "metadata": {},
   "outputs": [],
   "source": []
  }
 ],
 "metadata": {
  "kernelspec": {
   "display_name": "SageMath 9.0",
   "language": "sage",
   "name": "sagemath"
  },
  "language_info": {
   "codemirror_mode": {
    "name": "ipython",
    "version": 3
   },
   "file_extension": ".py",
   "mimetype": "text/x-python",
   "name": "python",
   "nbconvert_exporter": "python",
   "pygments_lexer": "ipython3",
   "version": "3.7.3"
  }
 },
 "nbformat": 4,
 "nbformat_minor": 4
}
