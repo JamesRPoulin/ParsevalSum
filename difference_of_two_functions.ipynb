{
 "cells": [
  {
   "cell_type": "code",
   "execution_count": null,
   "metadata": {},
   "outputs": [],
   "source": [
    "load('parseval/sum_of_nonnegative_rational_function.sage')\n",
    "load('parseval/compute_zeta_values.sage')\n",
    "\n",
    "def difference_of_two(rational_expression, tex = False):\n",
    "    numer = rational_expression.numerator()\n",
    "    denom = rational_expression.denominator()\n",
    "    product = numer*denom\n",
    "    coeff_list_pos = []\n",
    "    coeff_list_neg = []\n",
    "    for i in range(0,product.degree()+1):\n",
    "        if product[i] != 0:\n",
    "            if product[i] > 0:\n",
    "                coeff_list_pos.append([product[i], i])\n",
    "            else:\n",
    "                coeff_list_neg.append([product[i], i])\n",
    "    nonneg_part = 0\n",
    "    nonpos_part = 0\n",
    "    for i in coeff_list_pos:\n",
    "        if i[1]%2 == 1:\n",
    "            nonneg_part += ((i[0]*(n^(i[1]+1)+n^(i[1])+n^(i[1]-1)))/((denom)^2))\n",
    "            nonpos_part += ((-i[0]*(n^(i[1]+1))-i[0]*(n^(i[1]-1)))/((denom)^2))\n",
    "        else:\n",
    "            nonneg_part += ((i[0]*(n^(i[1])))/((denom)^2))\n",
    "    for i in coeff_list_neg:\n",
    "        if i[1]%2 == 1:\n",
    "            nonpos_part += ((i[0]*(n^(i[1]+1)+n^(i[1])+n^(i[1]-1)))/((denom)^2))\n",
    "            nonneg_part += ((-i[0]*(n^(i[1]+1))-i[0]*(n^(i[1]-1)))/((denom)^2))\n",
    "        else:\n",
    "            nonpos_part += ((i[0]*(n^(i[1])))/((denom)^2))\n",
    "    if tex:\n",
    "        display(Math(latex([nonneg_part,nonpos_part])))\n",
    "        return None\n",
    "    else:\n",
    "        return [nonneg_part,nonpos_part]\n",
    "\n",
    "def rational_SUM(rational_expression, sub_approx = False):\n",
    "    list_of_nonneg = difference_of_two(rational_expression)\n",
    "    answer = 0\n",
    "    for i in list_of_nonneg:\n",
    "        answer += SUM(i, sub_approx)\n",
    "    print(answer.n(200))\n",
    "    return (answer).canonicalize_radical()"
   ]
  },
  {
   "cell_type": "code",
   "execution_count": null,
   "metadata": {},
   "outputs": [],
   "source": [
    "difference_of_two(1/(n^2))"
   ]
  },
  {
   "cell_type": "code",
   "execution_count": null,
   "metadata": {},
   "outputs": [],
   "source": [
    "difference_of_two(1/(3*n+1)^3, True)"
   ]
  }
 ],
 "metadata": {
  "kernelspec": {
   "display_name": "SageMath 9.0",
   "language": "sage",
   "name": "sagemath"
  },
  "language_info": {
   "codemirror_mode": {
    "name": "ipython",
    "version": 3
   },
   "file_extension": ".py",
   "mimetype": "text/x-python",
   "name": "python",
   "nbconvert_exporter": "python",
   "pygments_lexer": "ipython3",
   "version": "3.7.3"
  }
 },
 "nbformat": 4,
 "nbformat_minor": 2
}
